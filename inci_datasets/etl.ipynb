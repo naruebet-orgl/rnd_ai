{
 "cells": [
  {
   "cell_type": "code",
   "execution_count": 2,
   "id": "c5999927",
   "metadata": {},
   "outputs": [],
   "source": [
    "import pandas as pd\n",
    "path = \"/Users/naruebet.orgl/Workspace/Labs/rnd_ai/inci_datasets/cosing_ingredients_clean_final.csv\"\n"
   ]
  },
  {
   "cell_type": "code",
   "execution_count": 4,
   "id": "15889468",
   "metadata": {},
   "outputs": [],
   "source": [
    "df = pd.read_csv(path)"
   ]
  },
  {
   "cell_type": "code",
   "execution_count": 5,
   "id": "815e52b2",
   "metadata": {},
   "outputs": [
    {
     "data": {
      "text/html": [
       "<div>\n",
       "<style scoped>\n",
       "    .dataframe tbody tr th:only-of-type {\n",
       "        vertical-align: middle;\n",
       "    }\n",
       "\n",
       "    .dataframe tbody tr th {\n",
       "        vertical-align: top;\n",
       "    }\n",
       "\n",
       "    .dataframe thead th {\n",
       "        text-align: right;\n",
       "    }\n",
       "</style>\n",
       "<table border=\"1\" class=\"dataframe\">\n",
       "  <thead>\n",
       "    <tr style=\"text-align: right;\">\n",
       "      <th></th>\n",
       "      <th>COSING_Ref_No</th>\n",
       "      <th>INCI_name</th>\n",
       "      <th>INN_name</th>\n",
       "      <th>Ph_Eur_Name</th>\n",
       "      <th>CAS_No</th>\n",
       "      <th>EC_No</th>\n",
       "      <th>Chem_IUPAC_Name_Description</th>\n",
       "      <th>Restriction</th>\n",
       "      <th>Function</th>\n",
       "      <th>Update_Date</th>\n",
       "    </tr>\n",
       "  </thead>\n",
       "  <tbody>\n",
       "    <tr>\n",
       "      <th>0</th>\n",
       "      <td>94753</td>\n",
       "      <td>DISODIUM TETRAMETHYLHEXADECENYLCYSTEINE FORMYL...</td>\n",
       "      <td>NaN</td>\n",
       "      <td>NaN</td>\n",
       "      <td>2040469-40-5, 2422121-34-2</td>\n",
       "      <td>NaN</td>\n",
       "      <td>Disodium Tetramethylhexadecenylcysteine Formyl...</td>\n",
       "      <td>NaN</td>\n",
       "      <td>SKIN PROTECTING</td>\n",
       "      <td>16/06/2020</td>\n",
       "    </tr>\n",
       "    <tr>\n",
       "      <th>1</th>\n",
       "      <td>94896</td>\n",
       "      <td>(LIQUIDAMBAR STYRACIFLUA/TRIBULUS TERRESTRIS) ...</td>\n",
       "      <td>NaN</td>\n",
       "      <td>NaN</td>\n",
       "      <td>NaN</td>\n",
       "      <td>NaN</td>\n",
       "      <td>(Liquidambar Styraciflua/Tribulus Terrestris) ...</td>\n",
       "      <td>NaN</td>\n",
       "      <td>SKIN CONDITIONING</td>\n",
       "      <td>01/12/2017</td>\n",
       "    </tr>\n",
       "    <tr>\n",
       "      <th>2</th>\n",
       "      <td>95645</td>\n",
       "      <td>ACRYLATES/VA/VINYL NEODECANOATE COPOLYMER</td>\n",
       "      <td>NaN</td>\n",
       "      <td>NaN</td>\n",
       "      <td>99728-55-9</td>\n",
       "      <td>NaN</td>\n",
       "      <td>Acrylates/VA/Vinyl Neodecanoate Copolymer is a...</td>\n",
       "      <td>NaN</td>\n",
       "      <td>PLASTICISER</td>\n",
       "      <td>14/02/2018</td>\n",
       "    </tr>\n",
       "    <tr>\n",
       "      <th>3</th>\n",
       "      <td>96229</td>\n",
       "      <td>ASTROCARYUM VULGARE SEED BUTTER</td>\n",
       "      <td>NaN</td>\n",
       "      <td>NaN</td>\n",
       "      <td>2187449-53-0</td>\n",
       "      <td>NaN</td>\n",
       "      <td>Astrocaryum Vulgare Seed Butter is the fat obt...</td>\n",
       "      <td>NaN</td>\n",
       "      <td>SKIN CONDITIONING, SKIN CONDITIONING - EMOLLIENT</td>\n",
       "      <td>06/04/2018</td>\n",
       "    </tr>\n",
       "    <tr>\n",
       "      <th>4</th>\n",
       "      <td>89177</td>\n",
       "      <td>BARLEY SH-POLYPEPTIDE-17</td>\n",
       "      <td>NaN</td>\n",
       "      <td>NaN</td>\n",
       "      <td>NaN</td>\n",
       "      <td>NaN</td>\n",
       "      <td>Barley sh-Polypeptide-17 is a single chain rec...</td>\n",
       "      <td>NaN</td>\n",
       "      <td>HAIR CONDITIONING, SKIN CONDITIONING</td>\n",
       "      <td>09/03/2018</td>\n",
       "    </tr>\n",
       "  </tbody>\n",
       "</table>\n",
       "</div>"
      ],
      "text/plain": [
       "   COSING_Ref_No                                          INCI_name INN_name  \\\n",
       "0          94753  DISODIUM TETRAMETHYLHEXADECENYLCYSTEINE FORMYL...      NaN   \n",
       "1          94896  (LIQUIDAMBAR STYRACIFLUA/TRIBULUS TERRESTRIS) ...      NaN   \n",
       "2          95645          ACRYLATES/VA/VINYL NEODECANOATE COPOLYMER      NaN   \n",
       "3          96229                    ASTROCARYUM VULGARE SEED BUTTER      NaN   \n",
       "4          89177                           BARLEY SH-POLYPEPTIDE-17      NaN   \n",
       "\n",
       "  Ph_Eur_Name                      CAS_No EC_No  \\\n",
       "0         NaN  2040469-40-5, 2422121-34-2   NaN   \n",
       "1         NaN                         NaN   NaN   \n",
       "2         NaN                  99728-55-9   NaN   \n",
       "3         NaN                2187449-53-0   NaN   \n",
       "4         NaN                         NaN   NaN   \n",
       "\n",
       "                         Chem_IUPAC_Name_Description Restriction  \\\n",
       "0  Disodium Tetramethylhexadecenylcysteine Formyl...         NaN   \n",
       "1  (Liquidambar Styraciflua/Tribulus Terrestris) ...         NaN   \n",
       "2  Acrylates/VA/Vinyl Neodecanoate Copolymer is a...         NaN   \n",
       "3  Astrocaryum Vulgare Seed Butter is the fat obt...         NaN   \n",
       "4  Barley sh-Polypeptide-17 is a single chain rec...         NaN   \n",
       "\n",
       "                                           Function Update_Date  \n",
       "0                                   SKIN PROTECTING  16/06/2020  \n",
       "1                                 SKIN CONDITIONING  01/12/2017  \n",
       "2                                       PLASTICISER  14/02/2018  \n",
       "3  SKIN CONDITIONING, SKIN CONDITIONING - EMOLLIENT  06/04/2018  \n",
       "4              HAIR CONDITIONING, SKIN CONDITIONING  09/03/2018  "
      ]
     },
     "execution_count": 5,
     "metadata": {},
     "output_type": "execute_result"
    }
   ],
   "source": [
    "df.head()"
   ]
  },
  {
   "cell_type": "code",
   "execution_count": 6,
   "id": "e2014e3c",
   "metadata": {},
   "outputs": [
    {
     "data": {
      "text/plain": [
       "(28653, 10)"
      ]
     },
     "execution_count": 6,
     "metadata": {},
     "output_type": "execute_result"
    }
   ],
   "source": [
    "df.shape"
   ]
  },
  {
   "cell_type": "code",
   "execution_count": 7,
   "id": "7d8a5abb",
   "metadata": {},
   "outputs": [
    {
     "data": {
      "text/plain": [
       "Index(['COSING_Ref_No', 'INCI_name', 'INN_name', 'Ph_Eur_Name', 'CAS_No',\n",
       "       'EC_No', 'Chem_IUPAC_Name_Description', 'Restriction', 'Function',\n",
       "       'Update_Date'],\n",
       "      dtype='object')"
      ]
     },
     "execution_count": 7,
     "metadata": {},
     "output_type": "execute_result"
    }
   ],
   "source": [
    "df.columns"
   ]
  },
  {
   "cell_type": "code",
   "execution_count": null,
   "id": "514edfd5",
   "metadata": {},
   "outputs": [],
   "source": []
  }
 ],
 "metadata": {
  "kernelspec": {
   "display_name": "Python 3",
   "language": "python",
   "name": "python3"
  },
  "language_info": {
   "codemirror_mode": {
    "name": "ipython",
    "version": 3
   },
   "file_extension": ".py",
   "mimetype": "text/x-python",
   "name": "python",
   "nbconvert_exporter": "python",
   "pygments_lexer": "ipython3",
   "version": "3.9.6"
  }
 },
 "nbformat": 4,
 "nbformat_minor": 5
}
